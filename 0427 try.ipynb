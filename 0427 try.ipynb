{
 "cells": [
  {
   "cell_type": "code",
   "execution_count": 1,
   "metadata": {},
   "outputs": [],
   "source": [
    "%matplotlib inline"
   ]
  },
  {
   "cell_type": "code",
   "execution_count": 2,
   "metadata": {},
   "outputs": [],
   "source": [
    "import pandas as pd"
   ]
  },
  {
   "cell_type": "code",
   "execution_count": 230,
   "metadata": {},
   "outputs": [],
   "source": [
    "df = pd.read_csv(\"mid_set/TTS1.csv\", header=None , encoding=\"big5\")"
   ]
  },
  {
   "attachments": {},
   "cell_type": "markdown",
   "metadata": {},
   "source": [
    "- TT\tTT1\t郵件狀態代碼\tX(2) | Status_code\n",
    "- TT\tTT2\t掛號號碼\tX(20) | Mail_num\n",
    "- TT\tTT3\t處理日期\tX(10) | Mail_date\n",
    "- TT\tTT4\t處理時間\tX(8) | Mail_time\n",
    "- TT\tTT5\t處理局號\tX(6) | OP_office // operation office\n",
    "- TT\tTT6\t其它\tX(42) | other\n"
   ]
  },
  {
   "cell_type": "code",
   "execution_count": 231,
   "metadata": {},
   "outputs": [],
   "source": [
    "df.columns = [\"Status_code\", \"Mail_num\", \"Mail_date\", \n",
    "             \"Mail_time\", \"OP_office\", \"other\"]"
   ]
  },
  {
   "cell_type": "markdown",
   "metadata": {},
   "source": [
    "# 定義：狀態碼為 **點**"
   ]
  },
  {
   "cell_type": "code",
   "execution_count": 232,
   "metadata": {},
   "outputs": [],
   "source": [
    "nodes = list(df.Status_code.unique())"
   ]
  },
  {
   "cell_type": "code",
   "execution_count": 233,
   "metadata": {},
   "outputs": [],
   "source": [
    "head_nodes = sorted(list(set([ node[0] for node in nodes])))"
   ]
  },
  {
   "cell_type": "code",
   "execution_count": 234,
   "metadata": {},
   "outputs": [],
   "source": [
    "dic_nodes  = dict( zip(head_nodes, range(len(head_nodes))) )"
   ]
  },
  {
   "cell_type": "code",
   "execution_count": 235,
   "metadata": {},
   "outputs": [],
   "source": [
    "label_node = lambda x: dic_nodes[x[0]]"
   ]
  },
  {
   "cell_type": "code",
   "execution_count": 236,
   "metadata": {},
   "outputs": [
    {
     "data": {
      "text/plain": [
       "6"
      ]
     },
     "execution_count": 236,
     "metadata": {},
     "output_type": "execute_result"
    }
   ],
   "source": [
    "label_node(\"T4\")"
   ]
  },
  {
   "cell_type": "code",
   "execution_count": 237,
   "metadata": {
    "scrolled": false
   },
   "outputs": [],
   "source": [
    "data_nodes = []\n",
    "for node in nodes:\n",
    "    data = { \"id\": node, \"group\": label_node(node)}\n",
    "    data_nodes.append(data)"
   ]
  },
  {
   "cell_type": "markdown",
   "metadata": {},
   "source": [
    "# 定義：**線**，狀態的改變\n",
    "- 要依據狀態、郵件號碼及時間去決定**線** 的連接\n",
    "- 時間的轉換，請參考 [pandas.to_datetime()](https://pandas.pydata.org/pandas-docs/stable/reference/api/pandas.to_datetime.html)"
   ]
  },
  {
   "cell_type": "code",
   "execution_count": 238,
   "metadata": {},
   "outputs": [],
   "source": [
    "df['Mail_datetime'] = df.Mail_date+\" \"+df.Mail_time"
   ]
  },
  {
   "cell_type": "code",
   "execution_count": 239,
   "metadata": {},
   "outputs": [],
   "source": [
    "df.Mail_datetime = pd.to_datetime(df.Mail_datetime)"
   ]
  },
  {
   "cell_type": "markdown",
   "metadata": {},
   "source": [
    "```\n",
    "all_mail[\"58668700100170\"] = [ (\"Y4\", \"2018-01-01 09:49:04\"),\n",
    "                           (\"I4\", \"2018-01-01 14:11:51\"), ... ] \n",
    "\n",
    "```"
   ]
  },
  {
   "cell_type": "code",
   "execution_count": null,
   "metadata": {
    "scrolled": true
   },
   "outputs": [],
   "source": [
    "all_mail = {}\n",
    "all_mail_key = set()\n",
    "for idx, row in df.iterrows():\n",
    "    mail_code = row.Mail_num.strip()\n",
    "    if not mail_code in all_mail_key:\n",
    "        all_mail[mail_code] = []\n",
    "        all_mail_key.add(mail_code)\n",
    "        \n",
    "    all_mail[mail_code].append( (row.Status_code, row.Mail_datetime) )"
   ]
  },
  {
   "cell_type": "code",
   "execution_count": null,
   "metadata": {},
   "outputs": [],
   "source": [
    "len(all_mail.keys())"
   ]
  },
  {
   "cell_type": "code",
   "execution_count": 120,
   "metadata": {},
   "outputs": [
    {
     "data": {
      "text/plain": [
       "[('Y4', Timestamp('2018-01-02 07:50:39')),\n",
       " ('H4', Timestamp('2018-01-02 14:06:59')),\n",
       " ('Z2', Timestamp('2018-01-02 16:34:28'))]"
      ]
     },
     "execution_count": 120,
     "metadata": {},
     "output_type": "execute_result"
    }
   ],
   "source": [
    "all_mail['00120000014101061010']"
   ]
  },
  {
   "cell_type": "code",
   "execution_count": 121,
   "metadata": {},
   "outputs": [
    {
     "data": {
      "text/plain": [
       "[('Y4', 'Y4'), ('Y4', 'I4'), ('I4', 'I4')]"
      ]
     },
     "execution_count": 121,
     "metadata": {},
     "output_type": "execute_result"
    }
   ],
   "source": [
    "def convert_2_edge(mail_status):\n",
    "    edges = []\n",
    "    for idx in range(len(mail_status)-1):\n",
    "        edges.append( ( mail_status[idx][0], mail_status[idx+1][0]) )\n",
    "        \n",
    "    return edges\n",
    "# \"Y4\" -> \"H4\", \n",
    "# \"H4\" -> \"Z2\"\n",
    "\n",
    "mail_status = all_mail['96410700000070']\n",
    "convert_2_edge(mail_status)"
   ]
  },
  {
   "cell_type": "code",
   "execution_count": 122,
   "metadata": {},
   "outputs": [],
   "source": [
    "all_edges = [] \n",
    "for mail_code in all_mail:\n",
    "    status_num = len(all_mail[mail_code])\n",
    "    \n",
    "    if (status_num) > 1:\n",
    "        mail_status = all_mail[mail_code]\n",
    "        all_edges.extend(convert_2_edge(mail_status))"
   ]
  },
  {
   "cell_type": "code",
   "execution_count": 226,
   "metadata": {},
   "outputs": [],
   "source": [
    "import collections \n",
    "import numpy as np"
   ]
  },
  {
   "cell_type": "code",
   "execution_count": 227,
   "metadata": {},
   "outputs": [],
   "source": [
    "value_list = {}\n",
    "for edge, value in collections.Counter(all_edges).most_common(1000):\n",
    "    value_list[edge] = value\n",
    "\n",
    "list_max = np.max(list(value_list.values()))\n",
    "list_min = np.min(list(value_list.values()))\n",
    "list_diff = float(list_max - list_min)\n",
    "\n",
    "k = 20\n",
    "\n",
    "normal_val = lambda x: int(k/3+k*2*(x-list_min)/list_diff)"
   ]
  },
  {
   "cell_type": "code",
   "execution_count": 228,
   "metadata": {},
   "outputs": [
    {
     "data": {
      "text/plain": [
       "36"
      ]
     },
     "execution_count": 228,
     "metadata": {},
     "output_type": "execute_result"
    }
   ],
   "source": [
    "normal_val(1700)"
   ]
  },
  {
   "cell_type": "code",
   "execution_count": 222,
   "metadata": {},
   "outputs": [],
   "source": [
    "data_edges = []\n",
    "for edge, value in collections.Counter(all_edges).most_common(1000):\n",
    "    edge = {\"source\": edge[0], \"target\":edge[1], \"value\":normal_val(value)}\n",
    "    data_edges.append(edge)"
   ]
  },
  {
   "cell_type": "code",
   "execution_count": 223,
   "metadata": {},
   "outputs": [],
   "source": [
    "all_data = { \"nodes\":data_nodes, \"links\":data_edges}"
   ]
  },
  {
   "cell_type": "code",
   "execution_count": 224,
   "metadata": {},
   "outputs": [],
   "source": [
    "import json"
   ]
  },
  {
   "cell_type": "code",
   "execution_count": 225,
   "metadata": {},
   "outputs": [
    {
     "data": {
      "text/plain": [
       "6390"
      ]
     },
     "execution_count": 225,
     "metadata": {},
     "output_type": "execute_result"
    }
   ],
   "source": [
    "open(\"data_4_d3.json\", 'w').write(json.dumps(all_data, indent=2))"
   ]
  },
  {
   "cell_type": "code",
   "execution_count": null,
   "metadata": {},
   "outputs": [],
   "source": []
  },
  {
   "cell_type": "code",
   "execution_count": null,
   "metadata": {},
   "outputs": [],
   "source": []
  },
  {
   "cell_type": "code",
   "execution_count": null,
   "metadata": {},
   "outputs": [],
   "source": []
  },
  {
   "cell_type": "code",
   "execution_count": null,
   "metadata": {},
   "outputs": [],
   "source": []
  },
  {
   "cell_type": "code",
   "execution_count": null,
   "metadata": {},
   "outputs": [],
   "source": []
  },
  {
   "cell_type": "markdown",
   "metadata": {},
   "source": [
    "## test on op_office"
   ]
  },
  {
   "cell_type": "code",
   "execution_count": 47,
   "metadata": {},
   "outputs": [],
   "source": [
    "mail_op = {}\n",
    "for idx, row in df.head(1000).iterrows():\n",
    "    m_code = row.Mail_num.strip()\n",
    "    if not m_code in mail_op:\n",
    "        mail_op[m_code] = []\n",
    "    mail_op[m_code].append( (row.Status_code, row.OP_office, row.Mail_datetime))"
   ]
  },
  {
   "cell_type": "code",
   "execution_count": 48,
   "metadata": {},
   "outputs": [],
   "source": [
    "def OP_seq(mail_seq):\n",
    "    seq = []\n",
    "    for idx in range(len(mail_seq)-1):\n",
    "        seq.append( (\"%s-%s\"%(mail_seq[idx][0], mail_seq[idx+1][0]), mail_seq[idx][1], mail_seq[idx+1][1]))\n",
    "    return seq"
   ]
  },
  {
   "cell_type": "code",
   "execution_count": 49,
   "metadata": {},
   "outputs": [],
   "source": [
    "mail_op_seq = []\n",
    "for code in mail_op:\n",
    "    if (len(mail_op[code])) > 1:\n",
    "        mail_op_seq.append(OP_seq(mail_op[code]))"
   ]
  },
  {
   "cell_type": "code",
   "execution_count": 50,
   "metadata": {},
   "outputs": [
    {
     "data": {
      "text/plain": [
       "[[('X2-H7', 830584, 830584)],\n",
       " [('Y4-I4', 830584, 830584)],\n",
       " [('Y4-Y4', 540028, 540028),\n",
       "  ('Y4-I4', 540028, 540028),\n",
       "  ('I4-I4', 540028, 540028)],\n",
       " [('Y4-Y4', 730013, 730013), ('Y4-I4', 730013, 730013)],\n",
       " [('Y4-I4', 360029, 360029)],\n",
       " [('Z4-Y4', 91814, 100587), ('Y4-I4', 100587, 100587)],\n",
       " [('Z2-P4', 500600, 500600)],\n",
       " [('Y4-I4', 100189, 100189)],\n",
       " [('Y4-I4', 600009, 600009)],\n",
       " [('H4-W2', 500027, 500027)],\n",
       " [('W2-I4', 260582, 260582)],\n",
       " [('W2-I4', 640582, 640582)],\n",
       " [('H4-W2', 500027, 500027)],\n",
       " [('Y4-I4', 330585, 330585)],\n",
       " [('Y4-H4', 300038, 300038)],\n",
       " [('I4-I4', 320008, 320008)],\n",
       " [('Y4-I4', 640026, 640026)],\n",
       " [('Y4-I4', 100601, 100601)],\n",
       " [('H4-W2', 500027, 500027)],\n",
       " [('H4-W2', 500027, 500027)],\n",
       " [('H4-W2', 500027, 500027)],\n",
       " [('Z2-P4', 500600, 500600)],\n",
       " [('H4-W2', 500027, 500027)],\n",
       " [('W2-I4', 100603, 100603)],\n",
       " [('H4-W2', 500027, 500027)],\n",
       " [('H4-W2', 500027, 500027)],\n",
       " [('Y4-I4', 100189, 100189)],\n",
       " [('Y4-I4', 970582, 970582)],\n",
       " [('Y4-I4', 830584, 830584)],\n",
       " [('Y4-H4', 220032, 220032)],\n",
       " [('Y4-I4', 800586, 800586)],\n",
       " [('H4-W2', 500027, 500027)],\n",
       " [('H4-W2', 500027, 500027)],\n",
       " [('Y4-I4', 200600, 200600)],\n",
       " [('Y4-I4', 500033, 500033)],\n",
       " [('Y4-I4', 800586, 800586)],\n",
       " [('X2-I4', 300038, 300038)],\n",
       " [('Y4-I4', 900043, 900043)],\n",
       " [('Y4-I4', 400587, 400587)],\n",
       " [('X2-H4', 830584, 830584)],\n",
       " [('H4-W2', 500027, 500027)],\n",
       " [('Y4-I4', 800586, 800586)],\n",
       " [('I4-I4', 260000, 260000)],\n",
       " [('V2-Z4', 330585, 330585)],\n",
       " [('W2-I4', 640582, 640582)],\n",
       " [('W2-I4', 100601, 100601)],\n",
       " [('Y4-I4', 100189, 100189)],\n",
       " [('Y4-H4', 420009, 420009), ('H4-H4', 420009, 420009)],\n",
       " [('H4-W2', 500027, 500027)],\n",
       " [('Y4-I4', 640026, 640026)],\n",
       " [('Y4-H4', 100564, 100564)],\n",
       " [('Y4-I4', 540028, 540028)],\n",
       " [('W2-I4', 540582, 540582)],\n",
       " [('W2-I4', 100603, 100603)],\n",
       " [('Y4-I4', 540028, 540028)],\n",
       " [('W2-I7', 100603, 100603)],\n",
       " [('W2-I4', 640582, 640582)],\n",
       " [('H4-W2', 500027, 500027)],\n",
       " [('W2-I4', 100603, 100603)],\n",
       " [('A1-Z4', 241022, 330672)],\n",
       " [('Z2-P4', 500600, 500600)],\n",
       " [('Z4-Y4', 91814, 100587), ('Y4-I4', 100587, 100587)],\n",
       " [('Y4-I4', 360023, 360023)],\n",
       " [('Y4-I4', 360020, 360020)],\n",
       " [('Y4-I4', 830021, 830021)],\n",
       " [('Y4-I4', 900043, 900043)],\n",
       " [('W2-I4', 100601, 100601)],\n",
       " [('I4-I4', 260000, 260000)],\n",
       " [('Y4-I4', 500058, 500058)],\n",
       " [('Y4-I4', 420026, 420026)],\n",
       " [('W2-I4', 100603, 100603)],\n",
       " [('W2-I4', 100603, 100603)],\n",
       " [('Y4-I4', 300038, 300038)],\n",
       " [('H4-W2', 500027, 500027)],\n",
       " [('Y4-I4', 900043, 900043)],\n",
       " [('Y4-H4', 500584, 500584), ('H4-Z2', 500584, 500584)],\n",
       " [('P5-P5', 800586, 800586)],\n",
       " [('Y4-I4', 704583, 704583)],\n",
       " [('H4-W2', 500027, 500027)],\n",
       " [('Y4-Y4', 330031, 330031),\n",
       "  ('Y4-I4', 330031, 330031),\n",
       "  ('I4-Y4', 330031, 330031),\n",
       "  ('Y4-I4', 330031, 330031),\n",
       "  ('I4-I4', 330031, 330031),\n",
       "  ('I4-Y4', 330031, 900030),\n",
       "  ('Y4-Y4', 900030, 500055),\n",
       "  ('Y4-G2', 500055, 100029),\n",
       "  ('G2-I4', 100029, 900030),\n",
       "  ('I4-I4', 900030, 500055),\n",
       "  ('I4-Y4', 500055, 330031),\n",
       "  ('Y4-I4', 330031, 330031)],\n",
       " [('W2-I4', 260600, 260600)],\n",
       " [('H4-W2', 500027, 500027)],\n",
       " [('H4-W2', 500027, 500027)],\n",
       " [('Y4-I4', 830584, 830584)],\n",
       " [('Z4-Y4', 91814, 100587)],\n",
       " [('Y4-I4', 540028, 540028)],\n",
       " [('W2-I4', 640582, 640582)],\n",
       " [('H4-W2', 500027, 500027)],\n",
       " [('H4-W2', 500027, 500027)],\n",
       " [('W2-I4', 100603, 100603)],\n",
       " [('H4-W2', 500027, 500027)],\n",
       " [('W2-I4', 640582, 640582)],\n",
       " [('Y4-I4', 300583, 300583)]]"
      ]
     },
     "execution_count": 50,
     "metadata": {},
     "output_type": "execute_result"
    }
   ],
   "source": [
    "mail_op_seq"
   ]
  },
  {
   "cell_type": "code",
   "execution_count": null,
   "metadata": {},
   "outputs": [],
   "source": []
  }
 ],
 "metadata": {
  "kernelspec": {
   "display_name": "Python 3",
   "language": "python",
   "name": "python3"
  },
  "language_info": {
   "codemirror_mode": {
    "name": "ipython",
    "version": 3
   },
   "file_extension": ".py",
   "mimetype": "text/x-python",
   "name": "python",
   "nbconvert_exporter": "python",
   "pygments_lexer": "ipython3",
   "version": "3.5.2"
  }
 },
 "nbformat": 4,
 "nbformat_minor": 2
}
